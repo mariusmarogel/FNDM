{
  "nbformat": 4,
  "nbformat_minor": 0,
  "metadata": {
    "colab": {
      "provenance": [],
      "toc_visible": true
    },
    "kernelspec": {
      "name": "python3",
      "display_name": "Python 3"
    },
    "language_info": {
      "name": "python"
    }
  },
  "cells": [
    {
      "cell_type": "markdown",
      "source": [
        "# Import datasets and libraries"
      ],
      "metadata": {
        "id": "6N_AGUsjKSp3"
      }
    },
    {
      "cell_type": "code",
      "execution_count": null,
      "metadata": {
        "id": "7xMSjuDaH6Zn"
      },
      "outputs": [],
      "source": [
        "!gdown 1SaSq8kwvNmxq2HoQBenhXC3ejM8BU70d\n",
        "!gdown 1uGv2afj67P9BGEMwFPyv_IopjMzaqMuG"
      ]
    },
    {
      "cell_type": "code",
      "source": [
        "import pandas as pd\n",
        "import numpy as np\n",
        "import keras\n",
        "from keras.layers import Input, Dense, GRU, Embedding, Dropout, LSTM, Concatenate, SimpleRNN, Bidirectional\n",
        "from keras.models import Model\n",
        "import random\n",
        "from sklearn.model_selection import train_test_split\n",
        "from sklearn.metrics import classification_report"
      ],
      "metadata": {
        "id": "XHIlHIY5KGOD"
      },
      "execution_count": null,
      "outputs": []
    },
    {
      "cell_type": "code",
      "source": [
        "d1 = pd.read_csv('t15_text_n2v.csv', encoding='utf-8')\n",
        "d2 = pd.read_csv('t16_text_n2v.csv', encoding='utf-8')\n",
        "model_enc = {1 : 'RNN',\n",
        "             2 : 'BiRNN',\n",
        "             3 : 'GRU',\n",
        "             4 : 'BiGRU',\n",
        "             5 : 'LSTM',\n",
        "             6 : 'BiLSTM'}"
      ],
      "metadata": {
        "id": "fJiXjTTyICsB"
      },
      "execution_count": null,
      "outputs": []
    },
    {
      "cell_type": "markdown",
      "source": [
        "# Twitter15"
      ],
      "metadata": {
        "id": "zlM5B1u6IFzm"
      }
    },
    {
      "cell_type": "code",
      "source": [
        "embeddings = np.load('t15_bert_embeddings.npy')\n",
        "emb_list = np.load('32d/t15_dw_emb.npy')\n",
        "d1['bert_embeddings'] = list(embeddings)\n",
        "d1['dw'] = emb_list"
      ],
      "metadata": {
        "id": "7HKWfJmrIoaB"
      },
      "execution_count": null,
      "outputs": []
    },
    {
      "cell_type": "markdown",
      "source": [
        "## 32 dimensions"
      ],
      "metadata": {
        "id": "u8GElOY3IQDB"
      }
    },
    {
      "cell_type": "code",
      "source": [
        "from sklearn.model_selection import train_test_split\n",
        "train_embeddings, test_embeddings, train_n2v, test_n2v, train_labels, test_labels = train_test_split(\n",
        "    np.array(d1['bert_embeddings'].tolist()), np.array(d1['dw'].tolist()), d1['label'].values, test_size=0.2, random_state=42\n",
        ")\n",
        "def RNN_model():\n",
        "  text_input = Input(shape=(train_embeddings.shape[1], train_embeddings.shape[2]), name='text_input')\n",
        "  graph_input = Input(shape=(train_n2v.shape[1],), name='graph_input')\n",
        "  rnn_output = SimpleRNN(64)(text_input)\n",
        "  rnn_output = Dropout(0.2)(rnn_output)\n",
        "  graph_output = Dense(32, activation='relu')(graph_input)\n",
        "  concatenated = Concatenate()([rnn_output, graph_output])\n",
        "  hidden = Dense(32, activation='relu')(concatenated)\n",
        "  output = Dense(1, activation='sigmoid')(hidden)\n",
        "  model = Model(inputs=[text_input, graph_input], outputs=output)\n",
        "  return model\n",
        "\n",
        "def BiRNN_model():\n",
        "  text_input = Input(shape=(train_embeddings.shape[1], train_embeddings.shape[2]), name='text_input')\n",
        "  graph_input = Input(shape=(train_n2v.shape[1],), name='graph_input')\n",
        "  rnn_output = Bidirectional(SimpleRNN(64))(text_input)\n",
        "  rnn_output = Dropout(0.2)(rnn_output)\n",
        "  graph_output = Dense(32, activation='relu')(graph_input)\n",
        "  concatenated = Concatenate()([rnn_output, graph_output])\n",
        "  hidden = Dense(32, activation='relu')(concatenated)\n",
        "  output = Dense(1, activation='sigmoid')(hidden)\n",
        "  model = Model(inputs=[text_input, graph_input], outputs=output)\n",
        "  return model\n",
        "\n",
        "def GRU_model():\n",
        "  text_input = Input(shape=(train_embeddings.shape[1], train_embeddings.shape[2]), name='text_input')\n",
        "  graph_input = Input(shape=(train_n2v.shape[1],), name='graph_input')\n",
        "  rnn_output = GRU(64)(text_input)\n",
        "  rnn_output = Dropout(0.2)(rnn_output)\n",
        "  graph_output = Dense(32, activation='relu')(graph_input)\n",
        "  concatenated = Concatenate()([rnn_output, graph_output])\n",
        "  hidden = Dense(32, activation='relu')(concatenated)\n",
        "  output = Dense(1, activation='sigmoid')(hidden)\n",
        "  model = Model(inputs=[text_input, graph_input], outputs=output)\n",
        "  return model\n",
        "\n",
        "def BiGRU_model():\n",
        "  text_input = Input(shape=(train_embeddings.shape[1], train_embeddings.shape[2]), name='text_input')\n",
        "  graph_input = Input(shape=(train_n2v.shape[1],), name='graph_input')\n",
        "  rnn_output = Bidirectional(GRU(64))(text_input)\n",
        "  rnn_output = Dropout(0.2)(rnn_output)\n",
        "  graph_output = Dense(32, activation='relu')(graph_input)\n",
        "  concatenated = Concatenate()([rnn_output, graph_output])\n",
        "  hidden = Dense(32, activation='relu')(concatenated)\n",
        "  output = Dense(1, activation='sigmoid')(hidden)\n",
        "  model = Model(inputs=[text_input, graph_input], outputs=output)\n",
        "  return model\n",
        "\n",
        "def LSTM_model():\n",
        "  text_input = Input(shape=(train_embeddings.shape[1], train_embeddings.shape[2]), name='text_input')\n",
        "  graph_input = Input(shape=(train_n2v.shape[1],), name='graph_input')\n",
        "  rnn_output = LSTM(64)(text_input)\n",
        "  rnn_output = Dropout(0.2)(rnn_output)\n",
        "  graph_output = Dense(32, activation='relu')(graph_input)\n",
        "  concatenated = Concatenate()([rnn_output, graph_output])\n",
        "  hidden = Dense(32, activation='relu')(concatenated)\n",
        "  output = Dense(1, activation='sigmoid')(hidden)\n",
        "  model = Model(inputs=[text_input, graph_input], outputs=output)\n",
        "  return model\n",
        "\n",
        "def BiLSTM_model():\n",
        "  text_input = Input(shape=(train_embeddings.shape[1], train_embeddings.shape[2]), name='text_input')\n",
        "  graph_input = Input(shape=(train_n2v.shape[1],), name='graph_input')\n",
        "  rnn_output = Bidirectional(LSTM(64))(text_input)\n",
        "  rnn_output = Dropout(0.2)(rnn_output)\n",
        "  graph_output = Dense(32, activation='relu')(graph_input)\n",
        "  concatenated = Concatenate()([rnn_output, graph_output])\n",
        "  hidden = Dense(32, activation='relu')(concatenated)\n",
        "  output = Dense(1, activation='sigmoid')(hidden)\n",
        "  model = Model(inputs=[text_input, graph_input], outputs=output)\n",
        "  return model"
      ],
      "metadata": {
        "id": "G24sAJkTJQDn"
      },
      "execution_count": null,
      "outputs": []
    },
    {
      "cell_type": "code",
      "source": [
        "for j in range(1, 11):\n",
        "  random_state = random.randint(1, 100)\n",
        "  train_embeddings, test_embeddings, train_n2v, test_n2v, train_labels, test_labels = train_test_split(\n",
        "        np.array(d1['bert_embeddings'].tolist()), np.array(d1['dw'].tolist()), d1['label'].values, test_size=0.2, random_state=random_state\n",
        "    )\n",
        "  filename = \"results/t15/dw/output\" + str(j) + \".txt\"\n",
        "  file = open(filename, \"a\")\n",
        "  for i in model_enc.keys():\n",
        "      if model_enc[i] == 'RNN':\n",
        "        model = RNN_model()\n",
        "      elif model_enc[i] == 'BiRNN':\n",
        "        model = BiRNN_model()\n",
        "      elif model_enc[i] == 'GRU':\n",
        "        model = GRU_model()\n",
        "      elif model_enc[i] == 'BiGRU':\n",
        "        model = BiGRU_model()\n",
        "      elif model_enc[i] == 'LSTM':\n",
        "        model = LSTM_model()\n",
        "      else:\n",
        "        model = BiLSTM_model()\n",
        "      model.compile(loss='binary_crossentropy', optimizer='SGD', metrics=['accuracy'])\n",
        "      print(f\"Training Model {model_enc[i]}\")\n",
        "      model.fit([train_embeddings, train_n2v], train_labels, epochs=30, batch_size=32, validation_split=0.2)\n",
        "      score = model.evaluate([test_embeddings, test_n2v], test_labels, verbose=0)\n",
        "      file.write(f\"Model {model_enc[i]} Test Accuracy: {score[1]}\" + '\\n')\n",
        "      y_pred = model.predict([test_embeddings, test_n2v])\n",
        "      y_pred = [1.0 if p > 0.5 else 0 for p in y_pred]\n",
        "      report = classification_report(test_labels, y_pred)\n",
        "      file.write(report + '\\n')\n",
        "\n",
        "  file.close()"
      ],
      "metadata": {
        "id": "Od7P_hKoJV5G"
      },
      "execution_count": null,
      "outputs": []
    },
    {
      "cell_type": "markdown",
      "source": [
        "# Twitter16"
      ],
      "metadata": {
        "id": "fx_ZhHY9IL_b"
      }
    },
    {
      "cell_type": "code",
      "source": [
        "embeddings = np.load('t16_bert_embeddings.npy')\n",
        "emb_list = np.load('32d/t16_dw_emb.npy')\n",
        "d2['bert_embeddings'] = list(embeddings)\n",
        "d2['dw'] = emb_list"
      ],
      "metadata": {
        "id": "JtB-JMdkJy1C"
      },
      "execution_count": null,
      "outputs": []
    },
    {
      "cell_type": "markdown",
      "source": [
        "## 32 dimensions"
      ],
      "metadata": {
        "id": "n0PZ8uqgIWan"
      }
    },
    {
      "cell_type": "code",
      "source": [
        "from sklearn.model_selection import train_test_split\n",
        "train_embeddings, test_embeddings, train_n2v, test_n2v, train_labels, test_labels = train_test_split(\n",
        "    np.array(d2['bert_embeddings'].tolist()), np.array(d2['dw'].tolist()), d2['label'].values, test_size=0.2, random_state=42\n",
        ")\n",
        "def RNN_model():\n",
        "  text_input = Input(shape=(train_embeddings.shape[1], train_embeddings.shape[2]), name='text_input')\n",
        "  graph_input = Input(shape=(train_n2v.shape[1],), name='graph_input')\n",
        "  rnn_output = SimpleRNN(64)(text_input)\n",
        "  rnn_output = Dropout(0.2)(rnn_output)\n",
        "  graph_output = Dense(32, activation='relu')(graph_input)\n",
        "  concatenated = Concatenate()([rnn_output, graph_output])\n",
        "  hidden = Dense(32, activation='relu')(concatenated)\n",
        "  output = Dense(1, activation='sigmoid')(hidden)\n",
        "  model = Model(inputs=[text_input, graph_input], outputs=output)\n",
        "  return model\n",
        "\n",
        "def BiRNN_model():\n",
        "  text_input = Input(shape=(train_embeddings.shape[1], train_embeddings.shape[2]), name='text_input')\n",
        "  graph_input = Input(shape=(train_n2v.shape[1],), name='graph_input')\n",
        "  rnn_output = Bidirectional(SimpleRNN(64))(text_input)\n",
        "  rnn_output = Dropout(0.2)(rnn_output)\n",
        "  graph_output = Dense(32, activation='relu')(graph_input)\n",
        "  concatenated = Concatenate()([rnn_output, graph_output])\n",
        "  hidden = Dense(32, activation='relu')(concatenated)\n",
        "  output = Dense(1, activation='sigmoid')(hidden)\n",
        "  model = Model(inputs=[text_input, graph_input], outputs=output)\n",
        "  return model\n",
        "\n",
        "def GRU_model():\n",
        "  text_input = Input(shape=(train_embeddings.shape[1], train_embeddings.shape[2]), name='text_input')\n",
        "  graph_input = Input(shape=(train_n2v.shape[1],), name='graph_input')\n",
        "  rnn_output = GRU(64)(text_input)\n",
        "  rnn_output = Dropout(0.2)(rnn_output)\n",
        "  graph_output = Dense(32, activation='relu')(graph_input)\n",
        "  concatenated = Concatenate()([rnn_output, graph_output])\n",
        "  hidden = Dense(32, activation='relu')(concatenated)\n",
        "  output = Dense(1, activation='sigmoid')(hidden)\n",
        "  model = Model(inputs=[text_input, graph_input], outputs=output)\n",
        "  return model\n",
        "\n",
        "def BiGRU_model():\n",
        "  text_input = Input(shape=(train_embeddings.shape[1], train_embeddings.shape[2]), name='text_input')\n",
        "  graph_input = Input(shape=(train_n2v.shape[1],), name='graph_input')\n",
        "  rnn_output = Bidirectional(GRU(64))(text_input)\n",
        "  rnn_output = Dropout(0.2)(rnn_output)\n",
        "  graph_output = Dense(32, activation='relu')(graph_input)\n",
        "  concatenated = Concatenate()([rnn_output, graph_output])\n",
        "  hidden = Dense(32, activation='relu')(concatenated)\n",
        "  output = Dense(1, activation='sigmoid')(hidden)\n",
        "  model = Model(inputs=[text_input, graph_input], outputs=output)\n",
        "  return model\n",
        "\n",
        "def LSTM_model():\n",
        "  text_input = Input(shape=(train_embeddings.shape[1], train_embeddings.shape[2]), name='text_input')\n",
        "  graph_input = Input(shape=(train_n2v.shape[1],), name='graph_input')\n",
        "  rnn_output = LSTM(64)(text_input)\n",
        "  rnn_output = Dropout(0.2)(rnn_output)\n",
        "  graph_output = Dense(32, activation='relu')(graph_input)\n",
        "  concatenated = Concatenate()([rnn_output, graph_output])\n",
        "  hidden = Dense(32, activation='relu')(concatenated)\n",
        "  output = Dense(1, activation='sigmoid')(hidden)\n",
        "  model = Model(inputs=[text_input, graph_input], outputs=output)\n",
        "  return model\n",
        "\n",
        "def BiLSTM_model():\n",
        "  text_input = Input(shape=(train_embeddings.shape[1], train_embeddings.shape[2]), name='text_input')\n",
        "  graph_input = Input(shape=(train_n2v.shape[1],), name='graph_input')\n",
        "  rnn_output = Bidirectional(LSTM(64))(text_input)\n",
        "  rnn_output = Dropout(0.2)(rnn_output)\n",
        "  graph_output = Dense(32, activation='relu')(graph_input)\n",
        "  concatenated = Concatenate()([rnn_output, graph_output])\n",
        "  hidden = Dense(32, activation='relu')(concatenated)\n",
        "  output = Dense(1, activation='sigmoid')(hidden)\n",
        "  model = Model(inputs=[text_input, graph_input], outputs=output)\n",
        "  return model"
      ],
      "metadata": {
        "id": "6k4WJBYWIajo"
      },
      "execution_count": null,
      "outputs": []
    },
    {
      "cell_type": "code",
      "source": [
        "for j in range(1, 11):\n",
        "  random_state = random.randint(1, 100)\n",
        "  train_embeddings, test_embeddings, train_n2v, test_n2v, train_labels, test_labels = train_test_split(\n",
        "        np.array(d2['bert_embeddings'].tolist()), np.array(d2['dw'].tolist()), d2['label'].values, test_size=0.2, random_state=random_state\n",
        "    )\n",
        "  filename = \"results/t16/dw/output\" + str(j) + \".txt\"\n",
        "  file = open(filename, \"a\")\n",
        "  for i in model_enc.keys():\n",
        "      if model_enc[i] == 'RNN':\n",
        "        model = RNN_model()\n",
        "      elif model_enc[i] == 'BiRNN':\n",
        "        model = BiRNN_model()\n",
        "      elif model_enc[i] == 'GRU':\n",
        "        model = GRU_model()\n",
        "      elif model_enc[i] == 'BiGRU':\n",
        "        model = BiGRU_model()\n",
        "      elif model_enc[i] == 'LSTM':\n",
        "        model = LSTM_model()\n",
        "      else:\n",
        "        model = BiLSTM_model()\n",
        "      model.compile(loss='binary_crossentropy', optimizer='SGD', metrics=['accuracy'])\n",
        "      print(f\"Training Model {model_enc[i]}\")\n",
        "      model.fit([train_embeddings, train_n2v], train_labels, epochs=30, batch_size=32, validation_split=0.2)\n",
        "      score = model.evaluate([test_embeddings, test_n2v], test_labels, verbose=0)\n",
        "      file.write(f\"Model {model_enc[i]} Test Accuracy: {score[1]}\" + '\\n')\n",
        "      y_pred = model.predict([test_embeddings, test_n2v])\n",
        "      y_pred = [1.0 if p > 0.5 else 0 for p in y_pred]\n",
        "      report = classification_report(test_labels, y_pred)\n",
        "      file.write(report + '\\n')\n",
        "\n",
        "  file.close()"
      ],
      "metadata": {
        "id": "pXn4Zha2J3Wu"
      },
      "execution_count": null,
      "outputs": []
    }
  ]
}